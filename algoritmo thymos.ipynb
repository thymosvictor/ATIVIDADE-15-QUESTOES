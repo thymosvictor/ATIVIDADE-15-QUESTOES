{
 "cells": [
  {
   "cell_type": "markdown",
   "metadata": {},
   "source": [
    "ATIVIDADE 1"
   ]
  },
  {
   "cell_type": "code",
   "execution_count": 29,
   "metadata": {},
   "outputs": [
    {
     "name": "stdout",
     "output_type": "stream",
     "text": [
      "sua letra é uma consoante\n"
     ]
    }
   ],
   "source": [
    "\n",
    "letra = (input('digite uma letra'))\n",
    "if letra == 'a':\n",
    "    print (\"sua letra é uma vogal\")\n",
    "elif letra == 'e':\n",
    "    print (\"sua letra é uma vogal\")\n",
    "elif letra == 'i': \n",
    "    print (\"sua letra é uma vogal\")\n",
    "elif letra == 'i':\n",
    "    print (\"sua letra é uma vogal\")\n",
    "elif letra == 'o':\n",
    "    print (\"sua letra é uma vogal\")\n",
    "elif letra == 'u':\n",
    "    print (\"sua letra é uma vogal\")\n",
    "else:\n",
    "    print (\"sua letra é uma consoante\")\n"
   ]
  },
  {
   "cell_type": "markdown",
   "metadata": {},
   "source": [
    "ATIVIDADE 2"
   ]
  },
  {
   "cell_type": "code",
   "execution_count": 30,
   "metadata": {},
   "outputs": [
    {
     "ename": "ValueError",
     "evalue": "could not convert string to float: ''",
     "output_type": "error",
     "traceback": [
      "\u001b[1;31m---------------------------------------------------------------------------\u001b[0m",
      "\u001b[1;31mValueError\u001b[0m                                Traceback (most recent call last)",
      "Cell \u001b[1;32mIn[30], line 1\u001b[0m\n\u001b[1;32m----> 1\u001b[0m produto1_preco \u001b[38;5;241m=\u001b[39m \u001b[38;5;28;43mfloat\u001b[39;49m\u001b[43m(\u001b[49m\u001b[43m \u001b[49m\u001b[38;5;28;43minput\u001b[39;49m\u001b[43m(\u001b[49m\u001b[38;5;124;43m'\u001b[39;49m\u001b[38;5;124;43mDigite o preço do produto1 em R$:\u001b[39;49m\u001b[38;5;124;43m'\u001b[39;49m\u001b[43m)\u001b[49m\u001b[43m)\u001b[49m\n\u001b[0;32m      2\u001b[0m produto2_preco \u001b[38;5;241m=\u001b[39m \u001b[38;5;28mfloat\u001b[39m( \u001b[38;5;28minput\u001b[39m(\u001b[38;5;124m'\u001b[39m\u001b[38;5;124mDigite o preço do produto2 em R$:\u001b[39m\u001b[38;5;124m'\u001b[39m))\n\u001b[0;32m      3\u001b[0m produto3_preco \u001b[38;5;241m=\u001b[39m \u001b[38;5;28mfloat\u001b[39m( \u001b[38;5;28minput\u001b[39m(\u001b[38;5;124m'\u001b[39m\u001b[38;5;124mDigite o preço do produto3 em R$:\u001b[39m\u001b[38;5;124m'\u001b[39m))\n",
      "\u001b[1;31mValueError\u001b[0m: could not convert string to float: ''"
     ]
    }
   ],
   "source": [
    "produto1_preco = float( input('Digite o preço do produto1 em R$:'))\n",
    "produto2_preco = float( input('Digite o preço do produto2 em R$:'))\n",
    "produto3_preco = float( input('Digite o preço do produto3 em R$:'))\n",
    "\n",
    "if produto1_preco <= produto2_preco and produto3_preco:\n",
    "   print (\"compre o primeiro produto pois é o mais em conta.\")\n",
    "elif produto2_preco <= produto1_preco and produto3_preco:\n",
    "   print (\"compre o segundo produto pois é o mais em conta.\")\n",
    "elif produto3_preco <= produto2_preco and produto1_preco:\n",
    "   print (\"compre o terceiro produto pois é o mais em conta.\")"
   ]
  },
  {
   "cell_type": "markdown",
   "metadata": {},
   "source": [
    "ATIVIDADE 3"
   ]
  },
  {
   "cell_type": "code",
   "execution_count": null,
   "metadata": {},
   "outputs": [
    {
     "name": "stdout",
     "output_type": "stream",
     "text": [
      "ordem decrescente: 50.0 25.0 10.0\n"
     ]
    }
   ],
   "source": [
    "numero1 = float( input('Digite o numero1'))\n",
    "numero2 = float( input('Digite o numero2'))\n",
    "numero3 = float( input('Digite o numero1'))\n",
    "\n",
    "if numero1 > numero2 > numero3:\n",
    "   print (\"ordem decrescente:\",numero1,numero2,numero3)\n",
    "elif numero1 > numero3 > numero2:\n",
    "   print (\"ordem decrescente:\",numero1,numero3,numero2)\n",
    "elif numero2 > numero1 > numero3:\n",
    "   print (\"ordem decrescente:\",numero2,numero1,numero3)\n",
    "elif numero2 > numero3 > numero1:\n",
    "    print (\"ordem decrescente:\",numero2,numero3,numero1)\n",
    "elif numero3 > numero2 > numero1: \n",
    "     print (\"ordem decrescente:\",numero3,numero2,numero1)\n",
    "elif numero3 > numero1 > numero2: \n",
    "    print (\"ordem decrescente:\",numero3,numero1,numero2)"
   ]
  },
  {
   "cell_type": "markdown",
   "metadata": {},
   "source": [
    "ATIVIDADE 4"
   ]
  },
  {
   "cell_type": "code",
   "execution_count": null,
   "metadata": {},
   "outputs": [
    {
     "name": "stdout",
     "output_type": "stream",
     "text": [
      "bom dia!\n"
     ]
    }
   ],
   "source": [
    "turno = (input('selecione o turno que voce estuda, \"m\"para matutino, \"v\" para vespertino e \"n\" para noturno'))\n",
    "if turno == 'm':\n",
    "    print ('bom dia!')\n",
    "elif turno == 'v':\n",
    "    print (\"boa tarde!\")\n",
    "elif turno == 'n':\n",
    "    print ('boa noite!')\n",
    "else:\n",
    "    print ('valor inválido')"
   ]
  },
  {
   "cell_type": "markdown",
   "metadata": {},
   "source": [
    "ATIVIDADE 5"
   ]
  },
  {
   "cell_type": "code",
   "execution_count": null,
   "metadata": {},
   "outputs": [
    {
     "name": "stdout",
     "output_type": "stream",
     "text": [
      "corresponde a: 5- quinta\n"
     ]
    }
   ],
   "source": [
    "numeros_dias = (input(\"digite um numero para correspender ao dia da semana!\"))\n",
    "if numeros_dias == '1':\n",
    "    print ('corresponde a: 1- domingo')\n",
    "elif numeros_dias == '2':\n",
    "    print ('corresponde a: 2- segunda')\n",
    "elif numeros_dias == '3':\n",
    "    print ('corresponde a: 3- terça')\n",
    "elif numeros_dias == '4': \n",
    "    print ('corresponde a: 4- quarta')\n",
    "elif numeros_dias == '5':  \n",
    "       print ('corresponde a: 5- quinta')\n",
    "elif numeros_dias == '6':  \n",
    "      print ('corresponde a: 6- sexta')     \n",
    "elif numeros_dias == '7':  \n",
    "     print ('corresponde a: 7- sabado')\n",
    "else:\n",
    "     print (\"valor inválido!\")"
   ]
  },
  {
   "cell_type": "markdown",
   "metadata": {},
   "source": [
    "ATIVIDADE 6"
   ]
  },
  {
   "cell_type": "code",
   "execution_count": null,
   "metadata": {},
   "outputs": [
    {
     "name": "stdout",
     "output_type": "stream",
     "text": [
      "a primeira nota foi: 6 a segunda nota foi: 9 a média é: 7.5 o conceito da média é: D o status final do aluno é de: APROVADO\n"
     ]
    }
   ],
   "source": [
    "nota1 = 6\n",
    "nota2 = 9\n",
    "media = (nota1 + nota2) / 2\n",
    "status = 'APROVADO' or 'REPROVADO'\n",
    "if media >=9:\n",
    "    conceito = 'A'\n",
    "elif media >=7.5:\n",
    "    conceito = 'B'\n",
    "elif media >=6:\n",
    "    conceito = 'C' \n",
    "if media >=4:\n",
    "    conceito = 'D'     \n",
    "else:\n",
    "    conceito = 'E'\n",
    "\n",
    "    if conceito in ['A','B','C']:\n",
    "        status = 'APROVADO'\n",
    "    elif conceito in ['D','E']:\n",
    "        status = 'REPROVADO'\n",
    "\n",
    "print ('a primeira nota foi:', nota1,'a segunda nota foi:', nota2, 'a média é:', media, 'o conceito da média é:',conceito,\"o status final do aluno é de:\" ,status)"
   ]
  },
  {
   "cell_type": "markdown",
   "metadata": {},
   "source": [
    "ATIVIDADE 7"
   ]
  },
  {
   "cell_type": "code",
   "execution_count": null,
   "metadata": {},
   "outputs": [
    {
     "name": "stdout",
     "output_type": "stream",
     "text": [
      "o ano 2024 é bissexto\n"
     ]
    }
   ],
   "source": [
    "ano = int(input('digite um ano:'))\n",
    "anobissexto= (ano % 4 == 0 and ano % 100 !=0 ) or (ano %400 == 0)\n",
    "if anobissexto == True:\n",
    "    print ('o ano',ano,'é bissexto')\n",
    "else:\n",
    "    print ('o ano',ano, 'não é bissexto')"
   ]
  },
  {
   "cell_type": "markdown",
   "metadata": {},
   "source": [
    "ATIVIDADE 8"
   ]
  },
  {
   "cell_type": "code",
   "execution_count": null,
   "metadata": {},
   "outputs": [
    {
     "ename": "NameError",
     "evalue": "name 'resultado' is not defined",
     "output_type": "error",
     "traceback": [
      "\u001b[1;31m---------------------------------------------------------------------------\u001b[0m",
      "\u001b[1;31mNameError\u001b[0m                                 Traceback (most recent call last)",
      "Cell \u001b[1;32mIn[13], line 41\u001b[0m\n\u001b[0;32m     38\u001b[0m     \u001b[38;5;28;01melse\u001b[39;00m:\n\u001b[0;32m     39\u001b[0m         \u001b[38;5;28mprint\u001b[39m(\u001b[38;5;124m\"\u001b[39m\u001b[38;5;124mOperação inválida.\u001b[39m\u001b[38;5;124m\"\u001b[39m)\n\u001b[1;32m---> 41\u001b[0m descricao_resultado \u001b[38;5;241m=\u001b[39m (\u001b[38;5;124mf\u001b[39m\u001b[38;5;124m\"\u001b[39m\u001b[38;5;124mO resultado é \u001b[39m\u001b[38;5;132;01m{\u001b[39;00mverificar_par_impar(\u001b[43mresultado\u001b[49m)\u001b[38;5;132;01m}\u001b[39;00m\u001b[38;5;124m, \u001b[39m\u001b[38;5;124m\"\u001b[39m\n\u001b[0;32m     42\u001b[0m                            \u001b[38;5;124mf\u001b[39m\u001b[38;5;124m\"\u001b[39m\u001b[38;5;132;01m{\u001b[39;00mverificar_positivo_negativo(resultado)\u001b[38;5;132;01m}\u001b[39;00m\u001b[38;5;124m e \u001b[39m\u001b[38;5;124m\"\u001b[39m\n\u001b[0;32m     43\u001b[0m                            \u001b[38;5;124mf\u001b[39m\u001b[38;5;124m\"\u001b[39m\u001b[38;5;132;01m{\u001b[39;00mverificar_inteiro_decimal\u001b[38;5;250m \u001b[39m(resultado)\u001b[38;5;132;01m}\u001b[39;00m\u001b[38;5;124m.\u001b[39m\u001b[38;5;124m\"\u001b[39m)\n\u001b[0;32m     46\u001b[0m \u001b[38;5;28mprint\u001b[39m(\u001b[38;5;124mf\u001b[39m\u001b[38;5;124m\"\u001b[39m\u001b[38;5;124mResultado da operação: \u001b[39m\u001b[38;5;132;01m{\u001b[39;00mresultado\u001b[38;5;132;01m}\u001b[39;00m\u001b[38;5;124m\"\u001b[39m)\n\u001b[0;32m     47\u001b[0m \u001b[38;5;28mprint\u001b[39m(descricao_resultado)      \n",
      "\u001b[1;31mNameError\u001b[0m: name 'resultado' is not defined"
     ]
    }
   ],
   "source": [
    "def verificar_par_impar(numero):\n",
    "    if numero % 2 == 0:\n",
    "        return \"par\"\n",
    "    else:\n",
    "        return \"ímpar\"\n",
    "\n",
    "def verificar_positivo_negativo(numero):\n",
    "    if numero > 0:\n",
    "        return \"positivo\"\n",
    "    elif numero < 0:\n",
    "        return \"negativo\"\n",
    "    else:\n",
    "        return \"neutro (zero)\"\n",
    "\n",
    "def verificar_inteiro_decimal(numero):\n",
    "    if numero == int(numero):\n",
    "        return \"inteiro\"\n",
    "    else:\n",
    "        return \"decimal\"\n",
    "\n",
    "def main():\n",
    "    \n",
    "    num1 = float(input(\"Digite o primeiro número: \"))\n",
    "    num2 = float(input(\"Digite o segundo número: \"))\n",
    "\n",
    "\n",
    "    operacao = input(\"Escolha a operação (+, -, *, /): \")\n",
    "    \n",
    "    if operacao == '+':\n",
    "       resultado = num1 + num2\n",
    "    elif operacao == '-':\n",
    "        resultado = num1 - num2\n",
    "    elif operacao == '*':\n",
    "        resultado = num1 * num2\n",
    "    elif operacao == '/':\n",
    "        resultado = num1 / num2\n",
    "    else:\n",
    "        print(\"Operação inválida.\")\n",
    "\n",
    "descricao_resultado = (f\"O resultado é {verificar_par_impar(resultado)}, \"\n",
    "                           f\"{verificar_positivo_negativo(resultado)} e \"\n",
    "                           f\"{verificar_inteiro_decimal (resultado)}.\")\n",
    "\n",
    "    \n",
    "print(f\"Resultado da operação: {resultado}\")\n",
    "print(descricao_resultado)      \n",
    "        "
   ]
  },
  {
   "cell_type": "markdown",
   "metadata": {},
   "source": [
    "ATIVIDADE 9"
   ]
  },
  {
   "cell_type": "code",
   "execution_count": null,
   "metadata": {},
   "outputs": [
    {
     "name": "stdout",
     "output_type": "stream",
     "text": [
      "a sua idade é 15.0\n"
     ]
    }
   ],
   "source": [
    "idade = float (input('digite a sua idade'))\n",
    "\n",
    "if idade > 150:\n",
    "    print ('valor inválido')\n",
    "elif idade < 0:\n",
    "    print ('valor inválido')\n",
    "print ('a sua idade é',idade)"
   ]
  },
  {
   "cell_type": "markdown",
   "metadata": {},
   "source": [
    "ATIVIDADE 10"
   ]
  },
  {
   "cell_type": "code",
   "execution_count": null,
   "metadata": {},
   "outputs": [
    {
     "name": "stdout",
     "output_type": "stream",
     "text": [
      "a soma dos numeros é: 85.0\n"
     ]
    }
   ],
   "source": [
    "\n",
    "numeros_lista = []\n",
    "for i in range (5):\n",
    "    numeros = float (input('digite um numero {i+1}:'))\n",
    "    numeros_lista.append (numeros)\n",
    "soma = sum(numeros_lista)\n",
    "\n",
    "print('a soma dos numeros é:',soma)"
   ]
  },
  {
   "cell_type": "markdown",
   "metadata": {},
   "source": [
    "ATIVIDADE 11"
   ]
  },
  {
   "cell_type": "code",
   "execution_count": null,
   "metadata": {},
   "outputs": [
    {
     "name": "stdout",
     "output_type": "stream",
     "text": [
      "esse numero é um numero primo\n"
     ]
    }
   ],
   "source": [
    "numero_primo = int(input('digite um numero'))\n",
    "if numero_primo / 1 or numero_primo:\n",
    "   print ('esse numero é um numero primo')\n",
    "else:\n",
    "   print (\"esse numero não é um numero primo\")"
   ]
  },
  {
   "cell_type": "markdown",
   "metadata": {},
   "source": [
    "ATIVIDADE 12"
   ]
  },
  {
   "cell_type": "code",
   "execution_count": null,
   "metadata": {},
   "outputs": [
    {
     "name": "stdout",
     "output_type": "stream",
     "text": [
      "A maior temperatura é: 50.0°C\n",
      "A menor temperatura é: 12.0°C\n",
      "A média das temperaturas é: 30.0°C\n"
     ]
    }
   ],
   "source": [
    "temperaturas = []\n",
    "\n",
    "for i in range(5):\n",
    "    temperatura = float(input(f\"Digite a temperatura {i + 1}: \"))\n",
    "    temperaturas.append(temperatura)\n",
    "\n",
    "\n",
    "maior_temperatura = max(temperaturas)\n",
    "menor_temperatura = min(temperaturas)\n",
    "\n",
    "media_temperaturas = sum(temperaturas) / len(temperaturas)\n",
    "\n",
    "print(f\"A maior temperatura é: {maior_temperatura}°C\")\n",
    "print(f\"A menor temperatura é: {menor_temperatura}°C\")\n",
    "print(f\"A média das temperaturas é: {media_temperaturas:}°C\")"
   ]
  },
  {
   "cell_type": "markdown",
   "metadata": {},
   "source": [
    "ATIVIDADE 13"
   ]
  },
  {
   "cell_type": "code",
   "execution_count": null,
   "metadata": {},
   "outputs": [
    {
     "name": "stdout",
     "output_type": "stream",
     "text": [
      "Saldo médio: R$500.0\n",
      "Valor do crédito: R$150.0\n"
     ]
    }
   ],
   "source": [
    "\n",
    "    \n",
    "saldo_medio = float(input(\"Digite o saldo médio do cliente: \"))  \n",
    "valor_credito = calcular_credito (saldo_medio) \n",
    "print(f\"Saldo médio: R${saldo_medio}\")\n",
    "print(f\"Valor do crédito: R${valor_credito}\")\n",
    "\n",
    "def calcular_credito(saldo_medio):\n",
    "    if saldo_medio >= 0 and saldo_medio <= 200:\n",
    "        return 0  \n",
    "    elif saldo_medio <= 400:\n",
    "        return saldo_medio * 0.20  \n",
    "    elif saldo_medio <= 600:\n",
    "        return saldo_medio * 0.30  \n",
    "    else:\n",
    "        return saldo_medio * 0.40  "
   ]
  },
  {
   "cell_type": "markdown",
   "metadata": {},
   "source": [
    "ATIVIDADE 14\n"
   ]
  },
  {
   "cell_type": "code",
   "execution_count": null,
   "metadata": {},
   "outputs": [
    {
     "name": "stdout",
     "output_type": "stream",
     "text": [
      "thymos, você irá se aposentar no ano de 2071.\n"
     ]
    }
   ],
   "source": [
    "nome = input(\"Qual é o seu nome? \")\n",
    "idade = int(input(\"Quantos anos você tem? \"))\n",
    "ano_atual = 2024  \n",
    "idade_aposentadoria = 65\n",
    "ano_aposentadoria = ano_atual + (idade_aposentadoria - idade)\n",
    "print(f\"{nome}, você irá se aposentar no ano de {ano_aposentadoria}.\")"
   ]
  },
  {
   "cell_type": "code",
   "execution_count": null,
   "metadata": {},
   "outputs": [],
   "source": []
  },
  {
   "cell_type": "code",
   "execution_count": null,
   "metadata": {},
   "outputs": [
    {
     "name": "stdout",
     "output_type": "stream",
     "text": [
      "=== Folha de Pagamento ===\n",
      "Salário Bruto: R$ 1500.00\n",
      "(-) IR: R$ 0.00\n",
      "(-) Sindicato: R$ 45.00\n",
      "FGTS (11%): R$ 165.00\n",
      "Total de descontos: R$ 45.00\n",
      "Salário Líquido: R$ 1455.00\n",
      "==========================\n"
     ]
    }
   ],
   "source": [
    "def calcular_salario(valor_hora, horas_trabalhadas):\n",
    "   \n",
    "    salario_bruto = valor_hora * horas_trabalhadas\n",
    "    \n",
    "    #\n",
    "    if salario_bruto <= 2112.00:\n",
    "        desconto_ir = 0\n",
    "    elif 2112.01 <= salario_bruto <= 2826.65:\n",
    "        desconto_ir = salario_bruto * 0.075\n",
    "    elif 2826.66 <= salario_bruto <= 3751.05:\n",
    "        desconto_ir = salario_bruto * 0.15\n",
    "    elif 3751.06 <= salario_bruto <= 4664.68:\n",
    "        desconto_ir = salario_bruto * 0.225\n",
    "    else:\n",
    "        desconto_ir = salario_bruto * 0.275\n",
    "    \n",
    "    desconto_sindicato = salario_bruto * 0.03\n",
    "    fgts = salario_bruto * 0.11\n",
    "    \n",
    " \n",
    "    salario_liquido = salario_bruto - desconto_ir - desconto_sindicato\n",
    "    \n",
    "    \n",
    "    print(\"=== Folha de Pagamento ===\")\n",
    "    print(f\"Salário Bruto: R$ {salario_bruto:.2f}\")\n",
    "    print(f\"(-) IR: R$ {desconto_ir:.2f}\")\n",
    "    print(f\"(-) Sindicato: R$ {desconto_sindicato:.2f}\")\n",
    "    print(f\"FGTS (11%): R$ {fgts:.2f}\")\n",
    "    print(f\"Total de descontos: R$ {desconto_ir + desconto_sindicato:.2f}\")\n",
    "    print(f\"Salário Líquido: R$ {salario_liquido:.2f}\")\n",
    "    print(\"==========================\")\n",
    "\n",
    "\n",
    "valor_hora = float(input(\"Digite o valor da hora trabalhada: R$ \"))\n",
    "horas_trabalhadas = float(input(\"Digite a quantidade de horas trabalhadas no mês: \"))\n",
    "\n",
    "\n",
    "calcular_salario(valor_hora, horas_trabalhadas)"
   ]
  }
 ],
 "metadata": {
  "kernelspec": {
   "display_name": "Python 3",
   "language": "python",
   "name": "python3"
  },
  "language_info": {
   "codemirror_mode": {
    "name": "ipython",
    "version": 3
   },
   "file_extension": ".py",
   "mimetype": "text/x-python",
   "name": "python",
   "nbconvert_exporter": "python",
   "pygments_lexer": "ipython3",
   "version": "3.12.1"
  }
 },
 "nbformat": 4,
 "nbformat_minor": 2
}
